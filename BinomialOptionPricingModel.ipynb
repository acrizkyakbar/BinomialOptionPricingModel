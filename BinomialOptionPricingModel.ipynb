{
 "cells": [
  {
   "cell_type": "markdown",
   "metadata": {},
   "source": [
    "# **Binomial Option Pricing Model**"
   ]
  },
  {
   "cell_type": "markdown",
   "metadata": {},
   "source": [
    "### **Import Packages**"
   ]
  },
  {
   "cell_type": "code",
   "execution_count": 164,
   "metadata": {},
   "outputs": [],
   "source": [
    "import numpy as np"
   ]
  },
  {
   "cell_type": "markdown",
   "metadata": {},
   "source": [
    "### **Set Parameters**"
   ]
  },
  {
   "cell_type": "code",
   "execution_count": 165,
   "metadata": {},
   "outputs": [],
   "source": [
    "# Set Parameters\n",
    "S0 = 100    # Current stock price\n",
    "K  = 105    # Strike price\n",
    "T  = 3/12   # Time to maturity in years\n",
    "N  = 1      # Number of steps\n",
    "r  = 0.04   # Annual risk free rate\n",
    "\n",
    "u  = 1.1                # Up factor\n",
    "d  = np.round(1/u,1)    # Down factor\n",
    "\n",
    "dt = T / N                           # delta T\n",
    "p = (np.exp(r * dt) - d) / (u - d)   # Risk-neutral probability\n",
    "q = 1 - p                            # Risk-neutral probability"
   ]
  },
  {
   "cell_type": "markdown",
   "metadata": {},
   "source": [
    "### **Binomial Trees**"
   ]
  },
  {
   "cell_type": "markdown",
   "metadata": {},
   "source": [
    "##### **Stock Price Paths**"
   ]
  },
  {
   "cell_type": "code",
   "execution_count": 166,
   "metadata": {},
   "outputs": [
    {
     "data": {
      "text/plain": [
       "array([[0., 0.],\n",
       "       [0., 0.]])"
      ]
     },
     "execution_count": 166,
     "metadata": {},
     "output_type": "execute_result"
    }
   ],
   "source": [
    "# Create N x N Matrix to hold stock prices\n",
    "stock_price = np.zeros([N+1,N+1])\n",
    "stock_price"
   ]
  },
  {
   "cell_type": "code",
   "execution_count": 167,
   "metadata": {},
   "outputs": [
    {
     "data": {
      "text/plain": [
       "array([[100., 110.],\n",
       "       [  0.,  90.]])"
      ]
     },
     "execution_count": 167,
     "metadata": {},
     "output_type": "execute_result"
    }
   ],
   "source": [
    "# Fill the matrix with stock prices\n",
    "for col in range(len(stock_price)):\n",
    "    for row in range(col+1):\n",
    "        stock_price[row, col] = S0 * (u**(col-row)) * (d**row)\n",
    "        \n",
    "stock_price"
   ]
  },
  {
   "cell_type": "markdown",
   "metadata": {},
   "source": [
    "#### **Option Value Paths**"
   ]
  },
  {
   "cell_type": "code",
   "execution_count": 168,
   "metadata": {},
   "outputs": [
    {
     "data": {
      "text/plain": [
       "array([[0., 0.],\n",
       "       [0., 0.]])"
      ]
     },
     "execution_count": 168,
     "metadata": {},
     "output_type": "execute_result"
    }
   ],
   "source": [
    "# Create N x N Matrix to hold option values\n",
    "option_payoff = np.zeros([N + 1, N + 1])\n",
    "option_payoff"
   ]
  },
  {
   "cell_type": "code",
   "execution_count": 169,
   "metadata": {},
   "outputs": [
    {
     "data": {
      "text/plain": [
       "array([[0., 5.],\n",
       "       [0., 0.]])"
      ]
     },
     "execution_count": 169,
     "metadata": {},
     "output_type": "execute_result"
    }
   ],
   "source": [
    "# Determine option's payoff at the end of the nodes\n",
    "option_payoff[:, N] = np.maximum(np.zeros(N + 1), (stock_price[:, N] - K))\n",
    "option_payoff"
   ]
  },
  {
   "cell_type": "code",
   "execution_count": 170,
   "metadata": {},
   "outputs": [
    {
     "data": {
      "text/plain": [
       "array([[2.72387874, 5.        ],\n",
       "       [0.        , 0.        ]])"
      ]
     },
     "execution_count": 170,
     "metadata": {},
     "output_type": "execute_result"
    }
   ],
   "source": [
    "# Determine option's payoff using backward induction, discounted by risk-free rate\n",
    "for col in range(N - 1, -1, -1):\n",
    "    for row in range(0, col + 1):\n",
    "        option_payoff[row, col] = (\n",
    "            np.exp(-r * dt) * (p * option_payoff[row, col + 1] + q * option_payoff[row + 1, col + 1])\n",
    "        )\n",
    "option_payoff"
   ]
  },
  {
   "cell_type": "code",
   "execution_count": 171,
   "metadata": {},
   "outputs": [
    {
     "data": {
      "text/plain": [
       "2.724"
      ]
     },
     "execution_count": 171,
     "metadata": {},
     "output_type": "execute_result"
    }
   ],
   "source": [
    "# Option price\n",
    "option_payoff[0,0].round(3)"
   ]
  },
  {
   "cell_type": "markdown",
   "metadata": {},
   "source": [
    "---"
   ]
  },
  {
   "cell_type": "markdown",
   "metadata": {},
   "source": [
    "# **Optimized Method**"
   ]
  },
  {
   "cell_type": "markdown",
   "metadata": {},
   "source": [
    "In this optimized version, we leverage NumPy's broadcasting to create the stock price matrix and the initial option payoff matrix without explicit loops. The backward induction step is also optimized using slicing to avoid unnecessary calculations.\n",
    "\n",
    "This version should be slightly more efficient, especially for larger values of N, as it reduces the number of explicit loops and takes advantage of NumPy's optimized operations."
   ]
  },
  {
   "cell_type": "code",
   "execution_count": 172,
   "metadata": {},
   "outputs": [],
   "source": [
    "# Create N x N matrix to hold stock prices and option payoff\n",
    "stock_price = np.zeros([N+1, N+1])\n",
    "option_payoff = np.zeros([N+1, N+1])"
   ]
  },
  {
   "cell_type": "code",
   "execution_count": 173,
   "metadata": {},
   "outputs": [
    {
     "data": {
      "text/plain": [
       "array([[  0., 110.],\n",
       "       [  0.,  90.]])"
      ]
     },
     "execution_count": 173,
     "metadata": {},
     "output_type": "execute_result"
    }
   ],
   "source": [
    "# Calculate stock prices and at the end of the nodes\n",
    "stock_price[:, N] = S0 * (u**np.arange(N, -1, -1)) * (d**np.arange(N + 1))\n",
    "stock_price"
   ]
  },
  {
   "cell_type": "code",
   "execution_count": 174,
   "metadata": {},
   "outputs": [
    {
     "data": {
      "text/plain": [
       "array([[0., 5.],\n",
       "       [0., 0.]])"
      ]
     },
     "execution_count": 174,
     "metadata": {},
     "output_type": "execute_result"
    }
   ],
   "source": [
    "# Calculate option payoff at the end of the the nodes\n",
    "option_payoff[:, N] = np.maximum(np.zeros(N + 1), (stock_price[:, N] - K))\n",
    "option_payoff"
   ]
  },
  {
   "cell_type": "code",
   "execution_count": 175,
   "metadata": {},
   "outputs": [],
   "source": [
    "# Calculate stock price and option_payoff using backward induction\n",
    "for col in range(N - 1, -1, -1):\n",
    "    # 0:col+1 = row\n",
    "    stock_price[0:col+1, col] = stock_price[0:col+1, col+1] / u\n",
    "    \n",
    "    option_payoff[0:col+1, col] = (\n",
    "        np.exp(-r * dt) * ((p * option_payoff[0:col+1, col + 1]) + (q * option_payoff[1:col+2, col + 1]))\n",
    "    )"
   ]
  },
  {
   "cell_type": "code",
   "execution_count": 176,
   "metadata": {},
   "outputs": [
    {
     "data": {
      "text/plain": [
       "array([[100., 110.],\n",
       "       [  0.,  90.]])"
      ]
     },
     "execution_count": 176,
     "metadata": {},
     "output_type": "execute_result"
    }
   ],
   "source": [
    "# Stock Price Paths\n",
    "stock_price"
   ]
  },
  {
   "cell_type": "code",
   "execution_count": 177,
   "metadata": {},
   "outputs": [
    {
     "data": {
      "text/plain": [
       "array([[2.72387874, 5.        ],\n",
       "       [0.        , 0.        ]])"
      ]
     },
     "execution_count": 177,
     "metadata": {},
     "output_type": "execute_result"
    }
   ],
   "source": [
    "# Option Payoff Paths\n",
    "option_payoff"
   ]
  },
  {
   "cell_type": "code",
   "execution_count": 178,
   "metadata": {},
   "outputs": [
    {
     "data": {
      "text/plain": [
       "2.724"
      ]
     },
     "execution_count": 178,
     "metadata": {},
     "output_type": "execute_result"
    }
   ],
   "source": [
    "# Option Price\n",
    "option_payoff[0,0].round(3)"
   ]
  },
  {
   "cell_type": "markdown",
   "metadata": {},
   "source": [
    "---"
   ]
  },
  {
   "cell_type": "markdown",
   "metadata": {},
   "source": [
    "Both methods yield the same result for the option price, but the second method is more efficient and faster for larger numbers of steps, such as 5000 steps. The reason is that the second method utilizes vectorized operations provided by NumPy, eliminating the need for nested loops. Vectorization allows the calculations to be performed on entire arrays at once, making it more computationally efficient compared to explicitly looping through individual elements.\n",
    "\n",
    "In summary, the second method is preferable, especially when dealing with a large number of steps, as it takes advantage of NumPy's optimized operations and offers better performance."
   ]
  }
 ],
 "metadata": {
  "kernelspec": {
   "display_name": "base",
   "language": "python",
   "name": "python3"
  },
  "language_info": {
   "codemirror_mode": {
    "name": "ipython",
    "version": 3
   },
   "file_extension": ".py",
   "mimetype": "text/x-python",
   "name": "python",
   "nbconvert_exporter": "python",
   "pygments_lexer": "ipython3",
   "version": "3.11.3"
  },
  "orig_nbformat": 4
 },
 "nbformat": 4,
 "nbformat_minor": 2
}
